{
  "cells": [
    {
      "cell_type": "code",
      "execution_count": 1,
      "metadata": {
        "colab": {
          "base_uri": "https://localhost:8080/"
        },
        "id": "cXwk492im6EX",
        "outputId": "626f9026-7e04-40a1-ca3b-058311e87fa4"
      },
      "outputs": [
        {
          "output_type": "stream",
          "name": "stdout",
          "text": [
            "Mounted at /content/gdrive\n"
          ]
        }
      ],
      "source": [
        "from google.colab import drive\n",
        "drive.mount('/content/gdrive')"
      ]
    },
    {
      "cell_type": "code",
      "execution_count": 2,
      "metadata": {
        "id": "5ILsMSNWn7Qy"
      },
      "outputs": [],
      "source": [
        "import pandas as pd\n",
        "import matplotlib.pyplot as plt\n",
        "from matplotlib.ticker import ScalarFormatter\n",
        "from sklearn.model_selection import GridSearchCV\n",
        "\n",
        "from sklearn.linear_model import LogisticRegression\n",
        "from sklearn.neighbors import KNeighborsClassifier\n",
        "from sklearn.svm import SVC\n",
        "from sklearn.tree import DecisionTreeClassifier\n",
        "from sklearn.ensemble import RandomForestClassifier"
      ]
    },
    {
      "cell_type": "code",
      "execution_count": 3,
      "metadata": {
        "id": "jKpM5EkLoM1C"
      },
      "outputs": [],
      "source": [
        "movies = pd.read_csv('/content/gdrive/MyDrive/moviedata/movies.csv')"
      ]
    },
    {
      "cell_type": "code",
      "execution_count": 4,
      "metadata": {
        "id": "WbxtKPVloflo"
      },
      "outputs": [],
      "source": [
        "Genres = [\n",
        "    'action',\n",
        "    \"adventure\",\n",
        "    \"animation\",\n",
        "    \"biography\",\n",
        "    \"comedy\",\n",
        "    \"crime\",\n",
        "    \"drama\",\n",
        "    \"family\",\n",
        "    \"fantasy\",\n",
        "    \"film-noir\",\n",
        "    \"history\",\n",
        "    \"horror\",\n",
        "    \"music\",\n",
        "    \"musical\",\n",
        "    \"mystery\",\n",
        "    \"romance\",\n",
        "    \"sci-Fi\",\n",
        "    \"sport\",\n",
        "    \"thriller\",\n",
        "    \"war\",\n",
        "    \"western\"\n",
        "]\n",
        "mpaa = ['PG-13', 'R', 'NR', 'PG', 'G', 'TVMA', 'NC-17', 'TV14', 'TVPG', 'TVY7']\n",
        "mo = {'January':1, 'February':2, 'March':3, 'April':4, 'May':5, 'June':6, 'July':7, 'August':8, 'September':9, 'October':10, 'November':11, 'December':12}\n",
        "for idx in movies.index:\n",
        "  for genre in Genres:\n",
        "    if genre in movies.loc[idx, 'genres']:\n",
        "      movies.loc[idx, genre] = 1\n",
        "    else:\n",
        "      movies.loc[idx, genre] = 0\n",
        "  for mp in mpaa:\n",
        "    if mp == movies.loc[idx, 'mpaa']:\n",
        "      movies.loc[idx, mp] = 1\n",
        "    else:\n",
        "      movies.loc[idx, mp] = 0\n",
        "  if movies.loc[idx, 'release_date'].split(' ')[0] in mo:\n",
        "    movies.loc[idx, 'release_month'] = mo[movies.loc[idx, 'release_date'].split(' ')[0]]\n",
        "  else: \n",
        "    movies.loc[idx, 'release_month'] = 0\n",
        "  movies.loc[idx, 'success_audience'] = 1 if movies.loc[idx, 'audience_score'] >= 60 else 0\n",
        "  movies.loc[idx, 'success_critic'] = 1 if movies.loc[idx,'tomatometer_score'] >= 75 else 0\n",
        "  movies.loc[idx, 'success_gross'] = 1 if movies.loc[idx, 'gross_earning'] >= movies.loc[idx, 'budget'] * 2 else 0\n",
        "  movies.loc[idx, 'success_imdb'] = 1 if movies.loc[idx, 'imdb_rating'] >= 7 else 0"
      ]
    },
    {
      "cell_type": "code",
      "execution_count": 8,
      "metadata": {
        "id": "qDVSr-m1JOHx"
      },
      "outputs": [],
      "source": [
        "movies.drop(['movie', 'release_date', 'plot_summary','genres','rotten_info', 'cast', 'mpaa'], axis=1, inplace=True)"
      ]
    },
    {
      "cell_type": "code",
      "execution_count": null,
      "metadata": {
        "id": "pRATGh587rBT"
      },
      "outputs": [],
      "source": [
        "movies.info()"
      ]
    },
    {
      "cell_type": "code",
      "execution_count": 10,
      "metadata": {
        "id": "IIra-tWCSL5E"
      },
      "outputs": [],
      "source": [
        "features = ['year', 'runtime', 'budget', 'award_involve', 'release_month'] + Genres + mpaa"
      ]
    },
    {
      "cell_type": "markdown",
      "metadata": {
        "id": "KiPcUe2QSEUD"
      },
      "source": [
        "# Predict for success of gross"
      ]
    },
    {
      "cell_type": "code",
      "execution_count": 29,
      "metadata": {
        "id": "RWsTx8ZdYo4K"
      },
      "outputs": [],
      "source": [
        "x_dummy = pd.get_dummies(movies.loc[:,features])\n",
        "\n",
        "x = movies[features].values\n",
        "y = movies['success_audience'].values\n"
      ]
    },
    {
      "cell_type": "code",
      "execution_count": 30,
      "metadata": {
        "id": "joMqPF12m8nB"
      },
      "outputs": [],
      "source": [
        "def print_cv_results(gs, title):\n",
        "    print(f'Best Score = {gs.best_score_:.4f}')\n",
        "    print(f'Best Hyper-parameters = {gs.best_params_}')"
      ]
    },
    {
      "cell_type": "code",
      "execution_count": null,
      "metadata": {
        "id": "paqKAaKunEeN"
      },
      "outputs": [],
      "source": [
        "# Logistic Regression\n",
        "logReg = LogisticRegression()\n",
        "c_list = [0.001, 0.01, 0.1, 1, 10, 100, 1000]\n",
        "param_grid = {'C': c_list,\n",
        "              'solver': ['newton-cg', 'lbfgs', 'sag', 'saga']}\n",
        "\n",
        "gs = GridSearchCV(estimator=logReg,\n",
        "                  param_grid=param_grid,\n",
        "                  scoring='accuracy',\n",
        "                  cv=10,\n",
        "                  return_train_score=True)\n",
        "gs = gs.fit(x_dummy, y)\n",
        "print_cv_results(gs, 'Logistic Regression Accuracy')"
      ]
    },
    {
      "cell_type": "code",
      "execution_count": null,
      "metadata": {
        "id": "eLb7yLfInGOK"
      },
      "outputs": [],
      "source": [
        "# KNN\n",
        "knn = KNeighborsClassifier()\n",
        "k_list = list(range(1, 26, 2))\n",
        "param_grid = [{'n_neighbors': k_list}]\n",
        "\n",
        "gs = GridSearchCV(estimator=knn,\n",
        "                  param_grid=param_grid,\n",
        "                  scoring='accuracy',\n",
        "                  cv=10,\n",
        "                  return_train_score=True)\n",
        "gs = gs.fit(x_dummy, y)\n",
        "print_cv_results(gs, 'KNN Accuracy')\n",
        "\n",
        "test_means = gs.cv_results_['mean_test_score']\n",
        "train_means = gs.cv_results_['mean_train_score']\n",
        "\n",
        "plt.plot(k_list, test_means, marker='o', label='Test')\n",
        "plt.plot(k_list, train_means, marker='o', label='Train')\n",
        "plt.xticks(k_list)\n",
        "\n",
        "plt.title('Movie Success Prediction: KNN')\n",
        "plt.ylabel('Accuracy')\n",
        "plt.xlabel('Number of Neighbors')\n",
        "plt.legend()\n",
        "plt.show()"
      ]
    },
    {
      "cell_type": "code",
      "execution_count": null,
      "metadata": {
        "id": "6lph8vienNzZ"
      },
      "outputs": [],
      "source": [
        "# Decision Tree\n",
        "criterions = ['gini', 'entropy']\n",
        "colors = ['red', 'blue']\n",
        "depth_list = list(range(1,11))\n",
        "\n",
        "for i in range(len(criterions)):\n",
        "    tree = DecisionTreeClassifier(criterion=criterions[i])\n",
        "    param_grid = [{'max_depth': depth_list}]\n",
        "    gs = GridSearchCV(estimator=tree,\n",
        "                      param_grid=param_grid,\n",
        "                      scoring='accuracy',\n",
        "                      cv=10,\n",
        "                      return_train_score=True)\n",
        "    gs = gs.fit(x_dummy, y)\n",
        "    print_cv_results(gs, 'Decision Tree Regression Accuracy')\n",
        "\n",
        "    test_means = gs.cv_results_['mean_test_score']\n",
        "    train_means = gs.cv_results_['mean_train_score']\n",
        "\n",
        "    plt.plot(depth_list, test_means, marker='o', label=f'{criterions[i]} Test Mean',\n",
        "                color=colors[i])\n",
        "    plt.plot(depth_list, train_means, marker='o', label=f'{criterions[i]} Train Mean',\n",
        "                linestyle='dashed', color=colors[i])\n",
        "\n",
        "plt.xticks(depth_list)\n",
        "plt.title(f'Movie Success Prediction: Decision Tree')\n",
        "plt.ylabel('Accuracy')\n",
        "plt.xlabel('Max Tree Depth')\n",
        "plt.legend()\n",
        "plt.show()"
      ]
    },
    {
      "cell_type": "code",
      "execution_count": null,
      "metadata": {
        "id": "Cyqs3QhKnSu6"
      },
      "outputs": [],
      "source": [
        "# Random Forest\n",
        "forest = RandomForestClassifier()\n",
        "criterions = ['gini', 'entropy']\n",
        "n_list = list(range(1, 11))\n",
        "param_grid = [{'n_estimators': n_list,\n",
        "                'max_depth': n_list,\n",
        "                'criterion': criterions}]\n",
        "gs = GridSearchCV(estimator=forest,\n",
        "                  param_grid=param_grid,\n",
        "                  scoring='accuracy',\n",
        "                  cv=10,\n",
        "                  return_train_score=True)\n",
        "gs = gs.fit(x_dummy, y)\n",
        "\n",
        "\n",
        "\n",
        "# print line graph of random forest where max_depth=8\n",
        "criterions = ['gini', 'entropy']\n",
        "colors = ['red', 'blue']\n",
        "n_list = list(range(1, 11))\n",
        "for i in range(len(criterions)):\n",
        "    forest = RandomForestClassifier(criterion=criterions[i], max_depth=8)\n",
        "    param_grid = [{'n_estimators': n_list}]\n",
        "    gs = GridSearchCV(estimator=forest,\n",
        "                      param_grid=param_grid,\n",
        "                      scoring='accuracy',\n",
        "                      cv=10,\n",
        "                      return_train_score=True)\n",
        "    gs = gs.fit(x_dummy, y)\n",
        "    print_cv_results(gs, 'Random Forest Accuracy')\n",
        "\n",
        "    test_means = gs.cv_results_['mean_test_score']\n",
        "    train_means = gs.cv_results_['mean_train_score']\n",
        "\n",
        "    plt.plot(n_list, test_means, marker='o', label=f'{criterions[i]} Test Mean',\n",
        "                color=colors[i])\n",
        "    plt.plot(n_list, train_means, marker='o', label=f'{criterions[i]} Train Mean',\n",
        "                linestyle='dotted', color=colors[i])\n",
        "\n",
        "plt.xticks(n_list)\n",
        "plt.title(f'Movie Success Prediction: Random Forest, max_depth=8')\n",
        "plt.ylabel('Accuracy')\n",
        "plt.xlabel('Number of Trees')\n",
        "plt.legend()\n",
        "plt.show()"
      ]
    }
  ],
  "metadata": {
    "colab": {
      "provenance": []
    },
    "kernelspec": {
      "display_name": "Python 3",
      "name": "python3"
    },
    "language_info": {
      "name": "python"
    }
  },
  "nbformat": 4,
  "nbformat_minor": 0
}